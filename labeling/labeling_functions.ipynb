{
 "cells": [
  {
   "cell_type": "code",
   "execution_count": 1,
   "metadata": {},
   "outputs": [],
   "source": [
    "import numpy as np\n",
    "import json\n",
    "\n",
    "from microfaune import audio, plot"
   ]
  },
  {
   "cell_type": "markdown",
   "metadata": {},
   "source": [
    "# Labeling with Audacity"
   ]
  },
  {
   "cell_type": "code",
   "execution_count": 4,
   "metadata": {},
   "outputs": [],
   "source": [
    "def convert_label_audacity_csv(file_path):\n",
    "\n",
    "    file = open(file_path, 'r')\n",
    "    lines_list = file.read()\n",
    "    lines_list = lines_list.split('\\n')\n",
    "    lines_list = lines_list[::2]\n",
    "    lines_list = lines_list[:-1]\n",
    "    \n",
    "    start_points = [round(float(line.split('\\t')[0]), 2) for line in lines_list]\n",
    "    end_points = [round(float(line.split('\\t')[1]), 2) for line in lines_list]\n",
    "    \n",
    "    tab = np.array((start_points, end_points)).transpose()\n",
    "    np.savetxt(file_path[:-4]+'.csv', tab, delimiter=\";\")\n",
    "    \n",
    "    return None\n",
    "\n",
    "\n",
    "def convert_label_audacity_json(csv_file):\n",
    "    \n",
    "    data = np.genfromtxt(csv_file, delimiter=\";\")\n",
    "    shape_data = np.shape(data)\n",
    "    start_time = data[:,0]\n",
    "    end_time = data[:,1]\n",
    "    \n",
    "    data_dict = []\n",
    "    \n",
    "    for i in range(shape_data[0]):\n",
    "        data_dict.append({\n",
    "            'id': 'wavesurfer_' + str(i), \n",
    "            'start': start_time[i], \n",
    "            'end': end_time[i],\n",
    "            'annotation': 'bird'\n",
    "        })\n",
    "    \n",
    "    with open(csv_file[:-4]+'.json', 'w') as outfile:\n",
    "        json.dump(data_dict, outfile)\n",
    "    \n",
    "    return None"
   ]
  },
  {
   "cell_type": "code",
   "execution_count": 5,
   "metadata": {},
   "outputs": [],
   "source": [
    "txt_file = \"C:/Users/Camille/Documents/MicroFaune/Git/labeling/test_audacity/test_labeling.txt\"\n",
    "convert_label_audacity_csv(txt_file)\n",
    "\n",
    "csv_file = txt_file[:-4]+'.csv'\n",
    "convert_label_audacity_json(csv_file)"
   ]
  },
  {
   "cell_type": "markdown",
   "metadata": {},
   "source": [
    "# Labeling with Louis audio annotator"
   ]
  },
  {
   "cell_type": "code",
   "execution_count": 59,
   "metadata": {},
   "outputs": [],
   "source": [
    "def number_bird_song(json_file_path):\n",
    "    \n",
    "    with open(json_file_path) as json_data:\n",
    "        data_dict = json.load(json_data)\n",
    "    \n",
    "    return len(data_dict)\n",
    "\n",
    "\n",
    "def prop_bird_song(json_file_path, wav_file_path):\n",
    "    \n",
    "    fs, data = audio.load_wav(wav_file_path)\n",
    "    total_duration = len(data)/fs\n",
    "    \n",
    "    with open(json_file_path) as json_data:\n",
    "        data_dict = json.load(json_data)\n",
    "        \n",
    "    bird_song_duration = 0\n",
    "    \n",
    "    for label in data_dict:\n",
    "        bird_song_duration += label['end'] - label['start']\n",
    "    \n",
    "    return round(bird_song_duration/total_duration, 4)\n",
    "\n",
    "\n",
    "def audio_charac_function_audio(json_file_path, wav_file_path):\n",
    "    \n",
    "    fs, data = audio.load_wav(wav_file_path)\n",
    "    charac_func = np.zeros((len(data),1))\n",
    "    \n",
    "    with open(json_file_path) as json_data:\n",
    "        data_dict = json.load(json_data)\n",
    "        \n",
    "    for label in data_dict:\n",
    "        indx_start = int(label['start']*fs)\n",
    "        indx_end = int(label['end']*fs)\n",
    "        charac_func[indx_start:indx_end+1,0] = 1\n",
    "    \n",
    "    return charac_func\n",
    "\n",
    "def audio_charac_function_spec(window_length, overlap, charac_func_audio):\n",
    "    \n",
    "    size_spec = 2+int(duration/(window_length*(1-overlap)))\n",
    "    size_audio = len(charac_func_audio)\n",
    "    regroup_factor = int(size_audio / size_spec)\n",
    "    \n",
    "    charac_func_spec = np.zeros((size_spec,1))\n",
    "    \n",
    "    for i in range(size_spec):\n",
    "        label_local = np.mean(charac_func_audio[i*regroup_factor : (i+1)*regroup_factor])\n",
    "        if label_local>0.5:\n",
    "            charac_func_spec[i] = 1\n",
    "    \n",
    "    return charac_func_spec"
   ]
  },
  {
   "cell_type": "code",
   "execution_count": 73,
   "metadata": {},
   "outputs": [
    {
     "name": "stdout",
     "output_type": "stream",
     "text": [
      "Number of bird songs labelised: 26\n",
      "Proportion of bird songs during extract: 56.74 %\n"
     ]
    }
   ],
   "source": [
    "json_file_path = \"C:/Users/Camille/Documents/MicroFaune/audio-annotator/static/json/test_labeling_labeled.json\"\n",
    "wav_file_path = \"C:/Users/Camille/Documents/MicroFaune/audio-annotator/static/wav/test_labeling.wav\"\n",
    "\n",
    "print(\"Number of bird songs labelised: \" + str(number_bird_song(json_file_path)) )\n",
    "print(\"Proportion of bird songs during extract: \" + str(prop_bird_song(json_file_path, wav_file_path)*100) + \" %\" )\n",
    "\n",
    "window_length = 0.020\n",
    "overlap = 0.55\n",
    "\n",
    "charac_func_audio = audio_charac_function_audio(json_file_path, wav_file_path)\n",
    "charac_func_spec = audio_charac_function_spec(window_length, overlap, charac_func_audio)"
   ]
  },
  {
   "cell_type": "code",
   "execution_count": 74,
   "metadata": {},
   "outputs": [
    {
     "name": "stdout",
     "output_type": "stream",
     "text": [
      "13485\n",
      "13485\n"
     ]
    }
   ],
   "source": [
    "#check length\n",
    "[spec, t, f, x_fs] = audio.file2spec(wav_file_path, scale_spec=\"linear\", window_length=window_length, overlap=overlap)\n",
    "print(len(t))\n",
    "print(len(charac_func_spec))"
   ]
  },
  {
   "cell_type": "code",
   "execution_count": 75,
   "metadata": {},
   "outputs": [
    {
     "name": "stdout",
     "output_type": "stream",
     "text": [
      "0.5674447813701579\n",
      "0.5667037449017427\n"
     ]
    }
   ],
   "source": [
    "#check proportion\n",
    "yes_audio=np.where(charac_func_audio>0)\n",
    "print(len(yes_audio[0])/len(charac_func_audio))\n",
    "yes_spec=np.where(charac_func_spec>0)\n",
    "print(len(yes_spec[0])/len(charac_func_spec))"
   ]
  },
  {
   "cell_type": "code",
   "execution_count": null,
   "metadata": {},
   "outputs": [],
   "source": []
  }
 ],
 "metadata": {
  "kernelspec": {
   "display_name": "Python 3",
   "language": "python",
   "name": "python3"
  },
  "language_info": {
   "codemirror_mode": {
    "name": "ipython",
    "version": 3
   },
   "file_extension": ".py",
   "mimetype": "text/x-python",
   "name": "python",
   "nbconvert_exporter": "python",
   "pygments_lexer": "ipython3",
   "version": "3.7.4"
  }
 },
 "nbformat": 4,
 "nbformat_minor": 2
}
