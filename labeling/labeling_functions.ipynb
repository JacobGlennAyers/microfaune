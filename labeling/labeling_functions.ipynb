{
 "cells": [
  {
   "cell_type": "code",
   "execution_count": 2,
   "metadata": {},
   "outputs": [],
   "source": [
    "import numpy as np\n",
    "import json\n",
    "import matplotlib.pyplot as plt\n",
    "import pylab\n",
    "\n",
    "from microfaune import audio, plot"
   ]
  },
  {
   "cell_type": "markdown",
   "metadata": {},
   "source": [
    "# Labeling with Audacity"
   ]
  },
  {
   "cell_type": "code",
   "execution_count": 3,
   "metadata": {},
   "outputs": [],
   "source": [
    "def convert_label_audacity_csv(file_path):\n",
    "\n",
    "    file = open(file_path, 'r')\n",
    "    lines_list = file.read()\n",
    "    lines_list = lines_list.split('\\n')\n",
    "    lines_list = lines_list[::2]\n",
    "    lines_list = lines_list[:-1]\n",
    "    \n",
    "    start_points = [round(float(line.split('\\t')[0]), 2) for line in lines_list]\n",
    "    end_points = [round(float(line.split('\\t')[1]), 2) for line in lines_list]\n",
    "    \n",
    "    tab = np.array((start_points, end_points)).transpose()\n",
    "    np.savetxt(file_path[:-4]+'.csv', tab, delimiter=\";\")\n",
    "    \n",
    "    return None\n",
    "\n",
    "\n",
    "def convert_label_audacity_json(csv_file):\n",
    "    \n",
    "    data = np.genfromtxt(csv_file, delimiter=\";\")\n",
    "    shape_data = np.shape(data)\n",
    "    start_time = data[:,0]\n",
    "    end_time = data[:,1]\n",
    "    \n",
    "    data_dict = []\n",
    "    \n",
    "    for i in range(shape_data[0]):\n",
    "        data_dict.append({\n",
    "            'id': 'wavesurfer_' + str(i), \n",
    "            'start': start_time[i], \n",
    "            'end': end_time[i],\n",
    "            'annotation': 'bird'\n",
    "        })\n",
    "    \n",
    "    with open(csv_file[:-4]+'.json', 'w') as outfile:\n",
    "        json.dump(data_dict, outfile)\n",
    "    \n",
    "    return None"
   ]
  },
  {
   "cell_type": "code",
   "execution_count": null,
   "metadata": {},
   "outputs": [],
   "source": [
    "txt_file = \"C:/Users/Camille/Documents/MicroFaune/Git/labeling/test_audacity/test_labeling.txt\"\n",
    "convert_label_audacity_csv(txt_file)\n",
    "\n",
    "csv_file = txt_file[:-4]+'.csv'\n",
    "convert_label_audacity_json(csv_file)"
   ]
  },
  {
   "cell_type": "markdown",
   "metadata": {},
   "source": [
    "# Labeling with Louis audio annotator"
   ]
  },
  {
   "cell_type": "code",
   "execution_count": 4,
   "metadata": {},
   "outputs": [],
   "source": [
    "def number_bird_song(json_file_path):\n",
    "    \n",
    "    with open(json_file_path) as json_data:\n",
    "        data_dict = json.load(json_data)\n",
    "    \n",
    "    return len(data_dict)\n",
    "\n",
    "\n",
    "def prop_bird_song(json_file_path, wav_file_path):\n",
    "    \n",
    "    fs, data = audio.load_wav(wav_file_path)\n",
    "    total_duration = len(data)/fs\n",
    "    \n",
    "    with open(json_file_path) as json_data:\n",
    "        data_dict = json.load(json_data)\n",
    "        \n",
    "    bird_song_duration = 0\n",
    "    \n",
    "    for label in data_dict:\n",
    "        bird_song_duration += label['end'] - label['start']\n",
    "    \n",
    "    return round(bird_song_duration/total_duration, 4)\n",
    "\n",
    "\n",
    "def audio_charac_function_audio(json_file_path, wav_file_path):\n",
    "    \n",
    "    fs, data = audio.load_wav(wav_file_path)\n",
    "    charac_func = np.zeros((len(data),1))\n",
    "    \n",
    "    with open(json_file_path) as json_data:\n",
    "        data_dict = json.load(json_data)\n",
    "        \n",
    "    for label in data_dict:\n",
    "        indx_start = int(label['start']*fs)\n",
    "        indx_end = int(label['end']*fs)\n",
    "        charac_func[indx_start:indx_end+1,0] = 1\n",
    "    \n",
    "    return charac_func\n",
    "\n",
    "def plot_charac(json_file_path, wav_file_path):\n",
    "\n",
    "    charac_func = audio_charac_function_audio(json_file_path, wav_file_path)\n",
    "    fs, data = audio.load_wav(wav_file_path)\n",
    "    \n",
    "    t_plot = np.array(range(len(data)))\n",
    "    t_plot = t_plot/fs\n",
    "    \n",
    "    plt.plot(t_plot,charac_func)\n",
    "    plt.show()\n",
    "    \n",
    "    return None\n",
    "\n",
    "\n",
    "def audio_charac_function_spec(window_length, overlap, charac_func_audio):\n",
    "    \n",
    "    size_spec = 2+int(duration/(window_length*(1-overlap)))\n",
    "    size_audio = len(charac_func_audio)\n",
    "    regroup_factor = int(size_audio / size_spec)\n",
    "    \n",
    "    charac_func_spec = np.zeros((size_spec,1))\n",
    "    \n",
    "    for i in range(size_spec):\n",
    "        label_local = np.mean(charac_func_audio[i*regroup_factor : (i+1)*regroup_factor])\n",
    "        if label_local>0.5:\n",
    "            charac_func_spec[i] = 1\n",
    "    \n",
    "    return charac_func_spec\n",
    "\n",
    "\n",
    "pylab.rcParams['figure.figsize'] = (20,2)"
   ]
  },
  {
   "cell_type": "markdown",
   "metadata": {},
   "source": [
    "# Florent"
   ]
  },
  {
   "cell_type": "code",
   "execution_count": 5,
   "metadata": {},
   "outputs": [
    {
     "name": "stdout",
     "output_type": "stream",
     "text": [
      "Number of bird songs labelised: 11\n",
      "Proportion of bird songs during extract: 80.51 %\n"
     ]
    },
    {
     "data": {
      "image/png": "[encoded data removed]",
      "text/plain": [
       "<Figure size 1440x144 with 1 Axes>"
      ]
     },
     "metadata": {
      "needs_background": "light"
     },
     "output_type": "display_data"
    }
   ],
   "source": [
    "json_file_path = \"C:/Users/Camille/Documents/MicroFaune/audio-annotator/compare_json_labels/test_labeling_labeled-florent.json\"\n",
    "wav_file_path = \"C:/Users/Camille/Documents/MicroFaune/audio-annotator/static/wav/test_labeling.wav\"\n",
    "\n",
    "print(\"Number of bird songs labelised: \" + str(number_bird_song(json_file_path)) )\n",
    "print(\"Proportion of bird songs during extract: \" + str(prop_bird_song(json_file_path, wav_file_path)*100) + \" %\" )\n",
    "plot_charac(json_file_path, wav_file_path)"
   ]
  },
  {
   "cell_type": "markdown",
   "metadata": {},
   "source": [
    "# Hadrien"
   ]
  },
  {
   "cell_type": "code",
   "execution_count": 6,
   "metadata": {},
   "outputs": [
    {
     "name": "stdout",
     "output_type": "stream",
     "text": [
      "Number of bird songs labelised: 21\n",
      "Proportion of bird songs during extract: 64.2 %\n"
     ]
    },
    {
     "data": {
      "image/png": "[encoded data removed]",
      "text/plain": [
       "<Figure size 1440x144 with 1 Axes>"
      ]
     },
     "metadata": {
      "needs_background": "light"
     },
     "output_type": "display_data"
    }
   ],
   "source": [
    "json_file_path = \"C:/Users/Camille/Documents/MicroFaune/audio-annotator/compare_json_labels/test_labeling_labeled-hadrien.json\"\n",
    "wav_file_path = \"C:/Users/Camille/Documents/MicroFaune/audio-annotator/static/wav/test_labeling.wav\"\n",
    "\n",
    "print(\"Number of bird songs labelised: \" + str(number_bird_song(json_file_path)) )\n",
    "print(\"Proportion of bird songs during extract: \" + str(prop_bird_song(json_file_path, wav_file_path)*100) + \" %\" )\n",
    "\n",
    "plot_charac(json_file_path, wav_file_path)"
   ]
  },
  {
   "cell_type": "markdown",
   "metadata": {},
   "source": [
    "# Camille"
   ]
  },
  {
   "cell_type": "code",
   "execution_count": 10,
   "metadata": {},
   "outputs": [
    {
     "name": "stdout",
     "output_type": "stream",
     "text": [
      "Number of bird songs labelised: 26\n",
      "Proportion of bird songs during extract: 56.74 %\n"
     ]
    },
    {
     "data": {
      "image/png": "[encoded data removed]",
      "text/plain": [
       "<Figure size 1440x144 with 1 Axes>"
      ]
     },
     "metadata": {
      "needs_background": "light"
     },
     "output_type": "display_data"
    }
   ],
   "source": [
    "json_file_path = \"C:/Users/Camille/Documents/MicroFaune/audio-annotator/compare_json_labels/test_labeling_labeled-camille.json\"\n",
    "wav_file_path = \"C:/Users/Camille/Documents/MicroFaune/audio-annotator/static/wav/test_labeling.wav\"\n",
    "\n",
    "print(\"Number of bird songs labelised: \" + str(number_bird_song(json_file_path)) )\n",
    "print(\"Proportion of bird songs during extract: \" + str(prop_bird_song(json_file_path, wav_file_path)*100) + \" %\" )\n",
    "plot_charac(json_file_path, wav_file_path)"
   ]
  },
  {
   "cell_type": "markdown",
   "metadata": {},
   "source": [
    "# Louis"
   ]
  },
  {
   "cell_type": "code",
   "execution_count": 11,
   "metadata": {},
   "outputs": [
    {
     "name": "stdout",
     "output_type": "stream",
     "text": [
      "Number of bird songs labelised: 18\n",
      "Proportion of bird songs during extract: 75.22999999999999 %\n"
     ]
    },
    {
     "data": {
      "image/png": "[encoded data removed]",
      "text/plain": [
       "<Figure size 1440x144 with 1 Axes>"
      ]
     },
     "metadata": {
      "needs_background": "light"
     },
     "output_type": "display_data"
    }
   ],
   "source": [
    "json_file_path = \"C:/Users/Camille/Documents/MicroFaune/audio-annotator/compare_json_labels/test_labeling_labeled-louis.json\"\n",
    "wav_file_path = \"C:/Users/Camille/Documents/MicroFaune/audio-annotator/static/wav/test_labeling.wav\"\n",
    "\n",
    "print(\"Number of bird songs labelised: \" + str(number_bird_song(json_file_path)) )\n",
    "print(\"Proportion of bird songs during extract: \" + str(prop_bird_song(json_file_path, wav_file_path)*100) + \" %\" )\n",
    "plot_charac(json_file_path, wav_file_path)"
   ]
  },
  {
   "cell_type": "markdown",
   "metadata": {},
   "source": [
    "# Ysé"
   ]
  },
  {
   "cell_type": "code",
   "execution_count": 12,
   "metadata": {},
   "outputs": [
    {
     "name": "stdout",
     "output_type": "stream",
     "text": [
      "Number of bird songs labelised: 14\n",
      "Proportion of bird songs during extract: 33.42 %\n"
     ]
    },
    {
     "data": {
      "image/png": "[encoded data removed]",
      "text/plain": [
       "<Figure size 1440x144 with 1 Axes>"
      ]
     },
     "metadata": {
      "needs_background": "light"
     },
     "output_type": "display_data"
    }
   ],
   "source": [
    "json_file_path = \"C:/Users/Camille/Documents/MicroFaune/audio-annotator/compare_json_labels/test_labeling_labeled-yse.json\"\n",
    "wav_file_path = \"C:/Users/Camille/Documents/MicroFaune/audio-annotator/static/wav/test_labeling.wav\"\n",
    "\n",
    "print(\"Number of bird songs labelised: \" + str(number_bird_song(json_file_path)) )\n",
    "print(\"Proportion of bird songs during extract: \" + str(prop_bird_song(json_file_path, wav_file_path)*100) + \" %\" )\n",
    "plot_charac(json_file_path, wav_file_path)"
   ]
  },
  {
   "cell_type": "code",
   "execution_count": null,
   "metadata": {},
   "outputs": [],
   "source": [
    "%matplotlib notebook"
   ]
  },
  {
   "cell_type": "code",
   "execution_count": null,
   "metadata": {
    "scrolled": true
   },
   "outputs": [],
   "source": [
    "json_file_path1 = \"C:/Users/Camille/Documents/MicroFaune/audio-annotator/compare_json_labels/test_labeling_labeled-florent.json\"\n",
    "json_file_path2 = \"C:/Users/Camille/Documents/MicroFaune/audio-annotator/compare_json_labels/test_labeling_labeled-hadrien.json\"\n",
    "json_file_path3 = \"C:/Users/Camille/Documents/MicroFaune/audio-annotator/compare_json_labels/test_labeling_labeled-camille.json\"\n",
    "json_file_path4 = \"C:/Users/Camille/Documents/MicroFaune/audio-annotator/compare_json_labels/test_labeling_labeled-louis.json\"\n",
    "\n",
    "plot_charac(json_file_path3, wav_file_path)"
   ]
  },
  {
   "cell_type": "markdown",
   "metadata": {},
   "source": [
    "# Compute charac spec"
   ]
  },
  {
   "cell_type": "code",
   "execution_count": null,
   "metadata": {},
   "outputs": [],
   "source": [
    "window_length = 0.020\n",
    "overlap = 0.55\n",
    "\n",
    "charac_func_audio = audio_charac_function_audio(json_file_path, wav_file_path)\n",
    "charac_func_spec = audio_charac_function_spec(window_length, overlap, charac_func_audio)\n",
    "\n",
    "#check length\n",
    "[spec, t, f, x_fs] = audio.file2spec(wav_file_path, scale_spec=\"linear\", window_length=window_length, overlap=overlap)\n",
    "print(len(t))\n",
    "print(len(charac_func_spec))"
   ]
  },
  {
   "cell_type": "code",
   "execution_count": null,
   "metadata": {},
   "outputs": [],
   "source": [
    "#check proportion\n",
    "yes_audio=np.where(charac_func_audio>0)\n",
    "print(len(yes_audio[0])/len(charac_func_audio))\n",
    "yes_spec=np.where(charac_func_spec>0)\n",
    "print(len(yes_spec[0])/len(charac_func_spec))"
   ]
  },
  {
   "cell_type": "code",
   "execution_count": null,
   "metadata": {},
   "outputs": [],
   "source": []
  }
 ],
 "metadata": {
  "kernelspec": {
   "display_name": "Python 3",
   "language": "python",
   "name": "python3"
  },
  "language_info": {
   "codemirror_mode": {
    "name": "ipython",
    "version": 3
   },
   "file_extension": ".py",
   "mimetype": "text/x-python",
   "name": "python",
   "nbconvert_exporter": "python",
   "pygments_lexer": "ipython3",
   "version": "3.7.4"
  }
 },
 "nbformat": 4,
 "nbformat_minor": 2
}
