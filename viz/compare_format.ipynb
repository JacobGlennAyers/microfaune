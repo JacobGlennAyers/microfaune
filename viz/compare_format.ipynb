{
 "cells": [
  {
   "cell_type": "code",
   "execution_count": 1,
   "metadata": {},
   "outputs": [],
   "source": [
    "import numpy as np\n",
    "from scipy.io import wavfile\n",
    "from scipy import signal\n",
    "import librosa\n",
    "import librosa.core\n",
    "import librosa.display\n",
    "import matplotlib.pyplot as plt\n",
    "import matplotlib.image as img\n",
    "import pylab\n",
    "import os\n",
    "from math import *\n",
    "\n",
    "import IPython.display as ipd\n",
    "\n",
    "from microfaune import audio\n",
    "from microfaune import plot"
   ]
  },
  {
   "cell_type": "markdown",
   "metadata": {},
   "source": [
    "# Format wav"
   ]
  },
  {
   "cell_type": "code",
   "execution_count": null,
   "metadata": {},
   "outputs": [],
   "source": [
    "file_name =  'audio/test_cite_u.wav'\n",
    "ipd.Audio(file_name)"
   ]
  },
  {
   "cell_type": "code",
   "execution_count": null,
   "metadata": {},
   "outputs": [],
   "source": [
    "[spec, t, f, x_fs] = audio.file2spec(file_name, scale_spec = \"linear\", window_length=0.020, overlap=0.5, duration=10)\n",
    "plot.plot_spec(spec, t, f, x_fs, scale_spec = \"linear\", plot_title=\"Spectrogram from wave file\", fig_size=(20,5), save_fig=True, save_path=\"spec_wav.png\")"
   ]
  },
  {
   "cell_type": "markdown",
   "metadata": {},
   "source": [
    "# Format MP3"
   ]
  },
  {
   "cell_type": "code",
   "execution_count": null,
   "metadata": {},
   "outputs": [],
   "source": [
    "file_name =  'audio/test_cite_u.mp3'\n",
    "ipd.Audio(file_name)"
   ]
  },
  {
   "cell_type": "code",
   "execution_count": null,
   "metadata": {},
   "outputs": [],
   "source": [
    "[spec, t, f, x_fs] = audio.file2spec(file_name, scale_spec = \"linear\", window_length=0.020, overlap=0.5, duration=10)\n",
    "plot.plot_spec(spec, t, f, x_fs, scale_spec = \"linear\", plot_title=\"Spectrogram from mp3 file\", fig_size=(20,5), save_fig=True, save_path=\"spec_mp3.png\")"
   ]
  },
  {
   "cell_type": "markdown",
   "metadata": {},
   "source": [
    "# Convert wav to mp3"
   ]
  },
  {
   "cell_type": "code",
   "execution_count": null,
   "metadata": {},
   "outputs": [],
   "source": [
    "from pydub import AudioSegment\n",
    "\n",
    "file = open('list_file_names.txt', 'r')\n",
    "file.readline()\n",
    "list_file_names = file.read()\n",
    "list_file_names = list_file_names.split('\\n')\n",
    "\n",
    "for i in range(52): # select index in the species list\n",
    "    file_name = list_file_names[i]\n",
    "    \n",
    "    old_path = 'audio/species_wav/' + file_name + '.wav'\n",
    "    new_path = 'audio/species_mp3/' + file_name + '.mp3'\n",
    "    \n",
    "    \n",
    "    AudioSegment.from_wav(old_path).export(new_path, format=\"mp3\")\n",
    "    "
   ]
  }
 ],
 "metadata": {
  "kernelspec": {
   "display_name": "Python 3",
   "language": "python",
   "name": "python3"
  },
  "language_info": {
   "codemirror_mode": {
    "name": "ipython",
    "version": 3
   },
   "file_extension": ".py",
   "mimetype": "text/x-python",
   "name": "python",
   "nbconvert_exporter": "python",
   "pygments_lexer": "ipython3",
   "version": "3.7.4"
  }
 },
 "nbformat": 4,
 "nbformat_minor": 2
}
