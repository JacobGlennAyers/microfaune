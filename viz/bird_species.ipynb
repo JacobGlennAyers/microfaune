{
 "cells": [
  {
   "cell_type": "code",
   "execution_count": null,
   "metadata": {},
   "outputs": [],
   "source": [
    "import numpy as np\n",
    "from scipy.io import wavfile\n",
    "from scipy import signal\n",
    "import librosa\n",
    "import librosa.display\n",
    "import matplotlib.pyplot as plt\n",
    "import matplotlib.image as img\n",
    "import pylab\n",
    "import os\n",
    "from math import *\n",
    "\n",
    "import IPython.display as ipd\n",
    "\n",
    "from microfaune import audio, plot"
   ]
  },
  {
   "cell_type": "markdown",
   "metadata": {},
   "source": [
    "# List of species"
   ]
  },
  {
   "cell_type": "code",
   "execution_count": null,
   "metadata": {},
   "outputs": [],
   "source": [
    "file = open('list_full_names.txt', 'r', encoding='utf-8')\n",
    "file.readline()\n",
    "list_full_names = file.read()\n",
    "list_full_names = list_full_names.split('\\n')\n",
    "file = open('list_file_names.txt', 'r')\n",
    "file.readline()\n",
    "list_file_names = file.read()\n",
    "list_file_names = list_file_names.split('\\n')"
   ]
  },
  {
   "cell_type": "markdown",
   "metadata": {},
   "source": [
    "# Select specie"
   ]
  },
  {
   "cell_type": "code",
   "execution_count": null,
   "metadata": {},
   "outputs": [],
   "source": [
    "i = 37 # select index in the species list\n",
    "full_name = list_full_names[i]\n",
    "file_name = list_file_names[i]\n",
    "print(full_name)\n",
    "\n",
    "try:\n",
    "    im = img.imread('images/'+file_name+'.png')\n",
    "    shape_im = np.shape(im)\n",
    "    pylab.rcParams['figure.figsize'] = (2, round(2/shape_im[0]*shape_im[1],2))\n",
    "    plt.imshow(im)\n",
    "    plt.axis('off')\n",
    "except:\n",
    "    print('No audio found for this specie')\n",
    "    im = img.imread('images/drawing_bird.png')\n",
    "    pylab.rcParams['figure.figsize'] = (2, round(2/shape_im[0]*shape_im[1],2))\n",
    "    plt.imshow(im)\n",
    "    plt.axis('off')"
   ]
  },
  {
   "cell_type": "markdown",
   "metadata": {},
   "source": [
    "# Listen to audio"
   ]
  },
  {
   "cell_type": "code",
   "execution_count": null,
   "metadata": {},
   "outputs": [],
   "source": [
    "ipd.Audio('audio/species_mp3/'+file_name+'.mp3')"
   ]
  },
  {
   "cell_type": "markdown",
   "metadata": {},
   "source": [
    "# Load audio"
   ]
  },
  {
   "cell_type": "code",
   "execution_count": null,
   "metadata": {
    "scrolled": true
   },
   "outputs": [],
   "source": [
    "fs, data = audio.load_mp3('audio/species_mp3/' + file_name + '.mp3')\n",
    "pylab.rcParams['figure.figsize'] = (10,2)\n",
    "plot.plot_audio(fs, data[:int(fs*10)+1])"
   ]
  },
  {
   "cell_type": "markdown",
   "metadata": {},
   "source": [
    "# Create spectrogram from the audio mp3"
   ]
  },
  {
   "cell_type": "code",
   "execution_count": null,
   "metadata": {},
   "outputs": [],
   "source": [
    "# cut at 10 seconds if longer samples\n",
    "[spec, t, f, x_fs] = audio.file2spec('audio/species_mp3/' + file_name + '.mp3', scale_spec = \"linear\",\n",
    "                                           window_length=0.020, overlap=0.5, duration=10)\n",
    "[f_median, f_min, f_max] = plot.plot_spec_with_frequency_detection(spec, t, f, x_fs, scale_spec = \"linear\", plot_title=\"Linear spectogram\",\n",
    "          fig_size=(20,5), save_fig=False, save_path='spec_10sec_species/'+file_name+'.png')\n"
   ]
  },
  {
   "cell_type": "markdown",
   "metadata": {},
   "source": [
    "# Compute spectrograms for all species from wav audio"
   ]
  },
  {
   "cell_type": "code",
   "execution_count": null,
   "metadata": {
    "scrolled": false
   },
   "outputs": [],
   "source": [
    "f_median_species = np.zeros((52,1))\n",
    "f_min_species = np.zeros((52,1))\n",
    "f_max_species = np.zeros((52,1))\n",
    "\n",
    "for i in range(52): # select index in the species list\n",
    "    file_name = list_file_names[i]\n",
    "    full_name = list_full_names[i]\n",
    "    \n",
    "    print(str(i)+' '+full_name)\n",
    "\n",
    "    # cut at 10 seconds if longer samples\n",
    "    [spec, t, f, x_fs] = audio.file2spec('audio/species_wav/' + file_name + '.wav', scale_spec = \"linear\",\n",
    "                                           window_length=0.020, overlap=0.5, duration=10)\n",
    "    plot.plot_spec(spec, t, f, x_fs, scale_spec = \"linear\", plot_title=\"Linear spectogram\",\n",
    "          fig_size=(20,5), save_fig=True, save_path='spec_10sec_species/'+file_name+'.png')\n",
    "\n",
    "#    [f_median, f_median, f_median] = plot.plot_spec_with_frequency_detection(spec, t, f, x_fs, scale_spec = \"linear\", plot_title=\"Linear spectogram\",\n",
    "#          fig_size=(20,5), save_fig=False, save_path='spec_10sec_species/'+file_name+'.png')\n",
    "#    f_median_species[i] = f_median\n",
    "#    f_min_species[i] = f_min\n",
    "#    f_max_species[i] = f_max\n",
    "    \n",
    "#np.savetxt('f_median_species_q95.txt',f_median_species)\n",
    "#np.savetxt('f_min_species_q95.txt',f_min_species)\n",
    "#np.savetxt('f_max_species_q95.txt',f_max_species)"
   ]
  }
 ],
 "metadata": {
  "kernelspec": {
   "display_name": "Python 3",
   "language": "python",
   "name": "python3"
  },
  "language_info": {
   "codemirror_mode": {
    "name": "ipython",
    "version": 3
   },
   "file_extension": ".py",
   "mimetype": "text/x-python",
   "name": "python",
   "nbconvert_exporter": "python",
   "pygments_lexer": "ipython3",
   "version": "3.7.2"
  }
 },
 "nbformat": 4,
 "nbformat_minor": 2
}
