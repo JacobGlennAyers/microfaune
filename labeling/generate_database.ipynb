{
 "cells": [
  {
   "cell_type": "code",
   "execution_count": 10,
   "metadata": {},
   "outputs": [],
   "source": [
    "import os\n",
    "\n",
    "from microfaune import audio, plot, labeling"
   ]
  },
  {
   "cell_type": "markdown",
   "metadata": {},
   "source": [
    "# Generate database"
   ]
  },
  {
   "cell_type": "markdown",
   "metadata": {},
   "source": [
    "## Parameters"
   ]
  },
  {
   "cell_type": "code",
   "execution_count": 11,
   "metadata": {},
   "outputs": [],
   "source": [
    "folder_path = 'C:/Users/Camille/Documents/MicroFaune/Git/labeling/labeled_files'\n",
    "path_database = 'C:/Users/Camille/Documents/MicroFaune/Git/labeling/database_generated'\n",
    "fs_filter = 10\n",
    "duration_extract = 10\n",
    "threshold = 0.1\n",
    "nbre_extracts_pos = 4\n",
    "nbre_extracts_neg = 10\n",
    "max_counts = 100"
   ]
  },
  {
   "cell_type": "markdown",
   "metadata": {},
   "source": [
    "## Get label files names"
   ]
  },
  {
   "cell_type": "code",
   "execution_count": 12,
   "metadata": {},
   "outputs": [],
   "source": [
    "list_json_files = os.listdir(folder_path + '/json/')\n",
    "list_wav_files = [file[:-13] + '.wav' for file in list_json_files]"
   ]
  },
  {
   "cell_type": "markdown",
   "metadata": {},
   "source": [
    "## Empty database files"
   ]
  },
  {
   "cell_type": "code",
   "execution_count": 13,
   "metadata": {},
   "outputs": [],
   "source": [
    "files_pos = os.listdir(path_database + '/positive/')\n",
    "files_neg = os.listdir(path_database + '/negative/')\n",
    "files_json = os.listdir(path_database + '/json/')\n",
    "for file in files_pos:\n",
    "    os.remove(path_database + '/positive/' + file)\n",
    "for file in files_neg:\n",
    "    os.remove(path_database + '/negative/' + file)\n",
    "for file in files_json:\n",
    "    os.remove(path_database + '/json/' + file)"
   ]
  },
  {
   "cell_type": "markdown",
   "metadata": {},
   "source": [
    "## Cut audio positive and negative extracts"
   ]
  },
  {
   "cell_type": "code",
   "execution_count": 14,
   "metadata": {},
   "outputs": [],
   "source": [
    "for i in range(len(list_wav_files)):\n",
    "    wav_file = list_wav_files[i]\n",
    "    json_file = list_json_files[i]\n",
    "    labeling.extract_audio(folder_path, wav_file, json_file, path_database, fs_filter, duration_extract, threshold,\n",
    "                  nbre_extracts_pos, nbre_extracts_neg, max_counts)"
   ]
  },
  {
   "cell_type": "code",
   "execution_count": null,
   "metadata": {},
   "outputs": [],
   "source": []
  }
 ],
 "metadata": {
  "kernelspec": {
   "display_name": "Python 3",
   "language": "python",
   "name": "python3"
  },
  "language_info": {
   "codemirror_mode": {
    "name": "ipython",
    "version": 3
   },
   "file_extension": ".py",
   "mimetype": "text/x-python",
   "name": "python",
   "nbconvert_exporter": "python",
   "pygments_lexer": "ipython3",
   "version": "3.7.4"
  }
 },
 "nbformat": 4,
 "nbformat_minor": 2
}
